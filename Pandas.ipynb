{
 "cells": [
  {
   "cell_type": "code",
   "execution_count": 1,
   "id": "a0b59fac-c4ed-484c-b203-26f32320e061",
   "metadata": {},
   "outputs": [],
   "source": [
    "In [1]: import pandas as pd"
   ]
  },
  {
   "cell_type": "code",
   "execution_count": 2,
   "id": "6057eff1-5c77-488d-84ac-dd84402906a4",
   "metadata": {},
   "outputs": [],
   "source": [
    "In [2]: df = pd.DataFrame(\n",
    "   ...:     {\n",
    "   ...:         \"Name\": [\n",
    "   ...:             \"Braund, Mr. Owen Harris\",\n",
    "   ...:             \"Allen, Mr. William Henry\",\n",
    "   ...:             \"Bonnell, Miss. Elizabeth\",\n",
    "   ...:         ],\n",
    "   ...:         \"Age\": [22, 35, 58],\n",
    "   ...:         \"Sex\": [\"male\", \"male\", \"female\"],\n",
    "   ...:     }\n",
    "   ...: )\n",
    "   ...: \n",
    "\n"
   ]
  },
  {
   "cell_type": "code",
   "execution_count": 8,
   "id": "8ccbe5cb-4cd8-414e-afd9-1d2fa108a6a7",
   "metadata": {},
   "outputs": [
    {
     "name": "stdout",
     "output_type": "stream",
     "text": [
      "       Name  Age     Sex\n",
      "0  Kingsley   22    Male\n",
      "1     Chika   33  Female\n",
      "2    CHUKWU   43    Male\n"
     ]
    }
   ],
   "source": [
    "df = pd.DataFrame(\n",
    "    {\n",
    "        \"Name\": [\n",
    "            \"Kingsley\",\n",
    "            \"Chika\",\n",
    "            \"CHUKWU\",\n",
    "        ],\n",
    "        \"Age\": [22, 33, 43],\n",
    "        \"Sex\": [\"Male\", \"Female\", \"Male\"],\n",
    "    }\n",
    ")\n",
    "print(df)"
   ]
  },
  {
   "cell_type": "code",
   "execution_count": null,
   "id": "e591cefc-6080-4aa0-b62c-1ef4e0e17ff4",
   "metadata": {},
   "outputs": [],
   "source": []
  }
 ],
 "metadata": {
  "kernelspec": {
   "display_name": "Python 3 (ipykernel)",
   "language": "python",
   "name": "python3"
  },
  "language_info": {
   "codemirror_mode": {
    "name": "ipython",
    "version": 3
   },
   "file_extension": ".py",
   "mimetype": "text/x-python",
   "name": "python",
   "nbconvert_exporter": "python",
   "pygments_lexer": "ipython3",
   "version": "3.12.4"
  }
 },
 "nbformat": 4,
 "nbformat_minor": 5
}
